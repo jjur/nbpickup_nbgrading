{
 "cells": [
  {
   "cell_type": "markdown",
   "metadata": {
    "collapsed": true
   },
   "source": [
    "# nbpickup Grading\n",
    "*Welcome, this notebook will guide you through process of authoring a new coding assignment or editing of existing one.*\n",
    "\n",
    "**Please enter your authentification token bellow:**  \n",
    "Your authentification token is generated from your nbpickup dashboard and is unique for every project at your account.  \n",
    "Please note that this token is valid for **maximum of 7 hours**."
   ]
  },
  {
   "cell_type": "code",
   "execution_count": null,
   "metadata": {},
   "outputs": [],
   "source": [
    "AUTH_TOKEN: \"--ENTER TOKEN HERE--\"\n",
    "\n",
    "from nbpickup import grading\n",
    "grading.auth(AUTH_TOKEN)\n",
    "grading.download_nbgrader_submissions()"
   ]
  },
  {
   "cell_type": "markdown",
   "metadata": {},
   "source": [
    "**Please Do NOT close this tab. It would disable autosave and connection with nbpickup.**"
   ]
  },
  {
   "cell_type": "code",
   "execution_count": null,
   "metadata": {},
   "outputs": [],
   "source": [
    "# Run this line to double check if your content is saved.\n"
   ]
  }
 ],
 "metadata": {
  "kernelspec": {
   "display_name": "Python 3 (ipykernel)",
   "language": "python",
   "name": "python3"
  },
  "language_info": {
   "codemirror_mode": {
    "name": "ipython",
    "version": 3
   },
   "file_extension": ".py",
   "mimetype": "text/x-python",
   "name": "python",
   "nbconvert_exporter": "python",
   "pygments_lexer": "ipython3",
   "version": "3.7.12"
  }
 },
 "nbformat": 4,
 "nbformat_minor": 1
}